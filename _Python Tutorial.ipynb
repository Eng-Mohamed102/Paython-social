{
 "cells": [
  {
   "cell_type": "code",
   "execution_count": 1,
   "id": "2f8a4467",
   "metadata": {},
   "outputs": [
    {
     "name": "stdout",
     "output_type": "stream",
     "text": [
      "Hello From Jupyter\n"
     ]
    }
   ],
   "source": [
    "print('Hello From Jupyter')"
   ]
  },
  {
   "cell_type": "code",
   "execution_count": 5,
   "id": "005cad81",
   "metadata": {},
   "outputs": [
    {
     "name": "stdout",
     "output_type": "stream",
     "text": [
      "Hello mohamed\n",
      "age is 23\n"
     ]
    }
   ],
   "source": [
    "my_str = 'Hello mohamed'\n",
    "my_int = 23\n",
    "print(my_str)\n",
    "print(\"age is\", my_int)"
   ]
  },
  {
   "cell_type": "code",
   "execution_count": 6,
   "id": "070ffb34",
   "metadata": {},
   "outputs": [
    {
     "data": {
      "text/plain": [
       "'Hello mohamed'"
      ]
     },
     "execution_count": 6,
     "metadata": {},
     "output_type": "execute_result"
    }
   ],
   "source": [
    "my_str"
   ]
  },
  {
   "cell_type": "code",
   "execution_count": 7,
   "id": "440c90d6",
   "metadata": {},
   "outputs": [
    {
     "data": {
      "text/plain": [
       "23"
      ]
     },
     "execution_count": 7,
     "metadata": {},
     "output_type": "execute_result"
    }
   ],
   "source": [
    "my_str\n",
    "my_int"
   ]
  },
  {
   "cell_type": "code",
   "execution_count": 10,
   "id": "bc461e44",
   "metadata": {},
   "outputs": [
    {
     "name": "stdout",
     "output_type": "stream",
     "text": [
      "you have many apples!\n"
     ]
    }
   ],
   "source": [
    "number_of_apples = 5\n",
    "if number_of_apples < 1:\n",
    "    print('you have no apples')\n",
    "elif number_of_apples == 1:\n",
    "    print('you have one apple')\n",
    "elif number_of_apples < 4:\n",
    "    print('you have a few apples')\n",
    "else:\n",
    "    print('you have many apples!')"
   ]
  },
  {
   "cell_type": "code",
   "execution_count": 11,
   "id": "ff74e11a",
   "metadata": {},
   "outputs": [
    {
     "data": {
      "text/plain": [
       "'mohamed'"
      ]
     },
     "execution_count": 11,
     "metadata": {},
     "output_type": "execute_result"
    }
   ],
   "source": [
    "student_names = ['mohamed','ali','ahmed','saad']\n",
    "student_names[0]"
   ]
  },
  {
   "cell_type": "code",
   "execution_count": 12,
   "id": "a40c441f",
   "metadata": {},
   "outputs": [
    {
     "data": {
      "text/plain": [
       "'ali'"
      ]
     },
     "execution_count": 12,
     "metadata": {},
     "output_type": "execute_result"
    }
   ],
   "source": [
    "student_names[1]"
   ]
  },
  {
   "cell_type": "code",
   "execution_count": 13,
   "id": "0288ae90",
   "metadata": {},
   "outputs": [
    {
     "data": {
      "text/plain": [
       "'saad'"
      ]
     },
     "execution_count": 13,
     "metadata": {},
     "output_type": "execute_result"
    }
   ],
   "source": [
    "student_names[-1]"
   ]
  },
  {
   "cell_type": "code",
   "execution_count": 14,
   "id": "1365462c",
   "metadata": {},
   "outputs": [
    {
     "data": {
      "text/plain": [
       "['mohamed', 'ali']"
      ]
     },
     "execution_count": 14,
     "metadata": {},
     "output_type": "execute_result"
    }
   ],
   "source": [
    "student_names[0:2]"
   ]
  },
  {
   "cell_type": "code",
   "execution_count": 15,
   "id": "0a20bd79",
   "metadata": {},
   "outputs": [
    {
     "data": {
      "text/plain": [
       "['ali', 'ahmed']"
      ]
     },
     "execution_count": 15,
     "metadata": {},
     "output_type": "execute_result"
    }
   ],
   "source": [
    "student_names[1:3]"
   ]
  },
  {
   "cell_type": "code",
   "execution_count": 16,
   "id": "669b378c",
   "metadata": {},
   "outputs": [
    {
     "data": {
      "text/plain": [
       "['mohamed', 'ali']"
      ]
     },
     "execution_count": 16,
     "metadata": {},
     "output_type": "execute_result"
    }
   ],
   "source": [
    "student_names[:2]"
   ]
  },
  {
   "cell_type": "code",
   "execution_count": 17,
   "id": "d6cf215e",
   "metadata": {},
   "outputs": [
    {
     "data": {
      "text/plain": [
       "['ahmed', 'saad']"
      ]
     },
     "execution_count": 17,
     "metadata": {},
     "output_type": "execute_result"
    }
   ],
   "source": [
    "student_names[2:]"
   ]
  },
  {
   "cell_type": "code",
   "execution_count": 23,
   "id": "02f0fa07",
   "metadata": {},
   "outputs": [],
   "source": [
    "student_names.append('nabel')"
   ]
  },
  {
   "cell_type": "code",
   "execution_count": 19,
   "id": "8fa7652f",
   "metadata": {},
   "outputs": [
    {
     "data": {
      "text/plain": [
       "['mohamed', 'ali', 'ahmed', 'saad', 'nabel']"
      ]
     },
     "execution_count": 19,
     "metadata": {},
     "output_type": "execute_result"
    }
   ],
   "source": [
    "student_names"
   ]
  },
  {
   "cell_type": "code",
   "execution_count": 20,
   "id": "b3478ec1",
   "metadata": {},
   "outputs": [
    {
     "data": {
      "text/plain": [
       "['mohamed', 'ali', 'mokhtar', 'ahmed', 'saad', 'nabel']"
      ]
     },
     "execution_count": 20,
     "metadata": {},
     "output_type": "execute_result"
    }
   ],
   "source": [
    "student_names.insert(2,'mokhtar')\n",
    "student_names"
   ]
  },
  {
   "cell_type": "code",
   "execution_count": 21,
   "id": "dbe60ec1",
   "metadata": {},
   "outputs": [
    {
     "data": {
      "text/plain": [
       "['mohamed', 'ali', 'ahmed', 'saad', 'nabel']"
      ]
     },
     "execution_count": 21,
     "metadata": {},
     "output_type": "execute_result"
    }
   ],
   "source": [
    "del student_names[2]\n",
    "student_names"
   ]
  },
  {
   "cell_type": "code",
   "execution_count": 24,
   "id": "e4236307",
   "metadata": {},
   "outputs": [
    {
     "data": {
      "text/plain": [
       "['mohamed', 'ali', 'ahmed', 'saad', 'nabel', 'nabel', 'omar', 'omar']"
      ]
     },
     "execution_count": 24,
     "metadata": {},
     "output_type": "execute_result"
    }
   ],
   "source": [
    "student_names.append('omar')\n",
    "student_names.append('omar')\n",
    "student_names"
   ]
  },
  {
   "cell_type": "code",
   "execution_count": 25,
   "id": "74374469",
   "metadata": {},
   "outputs": [
    {
     "name": "stdout",
     "output_type": "stream",
     "text": [
      "Hello mohamed!\n",
      "Hello ali!\n",
      "Hello ahmed!\n",
      "Hello saad!\n"
     ]
    }
   ],
   "source": [
    "student_names = ['mohamed','ali','ahmed','saad']\n",
    "for student_name in student_names:\n",
    "    print('Hello '+student_name + '!')"
   ]
  },
  {
   "cell_type": "code",
   "execution_count": 31,
   "id": "b7999049",
   "metadata": {},
   "outputs": [
    {
     "data": {
      "text/plain": [
       "['mohamed', 'ahmed']"
      ]
     },
     "execution_count": 31,
     "metadata": {},
     "output_type": "execute_result"
    }
   ],
   "source": [
    "long_names = []\n",
    "for student_name in student_names:\n",
    "    if len(student_name) > 4:\n",
    "        long_names.append(student_name)\n",
    "long_names"
   ]
  },
  {
   "cell_type": "code",
   "execution_count": 33,
   "id": "06fdc1eb",
   "metadata": {},
   "outputs": [
    {
     "data": {
      "text/plain": [
       "[('mohamed', 'mohamed'),\n",
       " ('mohamed', 'ali'),\n",
       " ('mohamed', 'ahmed'),\n",
       " ('mohamed', 'saad'),\n",
       " ('ali', 'mohamed'),\n",
       " ('ali', 'ali'),\n",
       " ('ali', 'ahmed'),\n",
       " ('ali', 'saad'),\n",
       " ('ahmed', 'mohamed'),\n",
       " ('ahmed', 'ali'),\n",
       " ('ahmed', 'ahmed'),\n",
       " ('ahmed', 'saad'),\n",
       " ('saad', 'mohamed'),\n",
       " ('saad', 'ali'),\n",
       " ('saad', 'ahmed'),\n",
       " ('saad', 'saad')]"
      ]
     },
     "execution_count": 33,
     "metadata": {},
     "output_type": "execute_result"
    }
   ],
   "source": [
    "student_names = ['mohamed','ali','ahmed','saad']\n",
    "student_pairs = []\n",
    "for student_name_0 in student_names:\n",
    "    for student_name_1 in student_names:\n",
    "        student_pairs.append(\n",
    "        (student_name_0,student_name_1)\n",
    "        )\n",
    "student_pairs"
   ]
  },
  {
   "cell_type": "code",
   "execution_count": 35,
   "id": "4c964efd",
   "metadata": {},
   "outputs": [
    {
     "data": {
      "text/plain": [
       "('mohamed', 'ali')"
      ]
     },
     "execution_count": 35,
     "metadata": {},
     "output_type": "execute_result"
    }
   ],
   "source": [
    "student_pairs[1]"
   ]
  },
  {
   "cell_type": "code",
   "execution_count": 38,
   "id": "289dec3f",
   "metadata": {},
   "outputs": [
    {
     "data": {
      "text/plain": [
       "[('mohamed', 'ali'),\n",
       " ('mohamed', 'ahmed'),\n",
       " ('mohamed', 'saad'),\n",
       " ('ali', 'mohamed'),\n",
       " ('ali', 'ahmed'),\n",
       " ('ali', 'saad'),\n",
       " ('ahmed', 'mohamed'),\n",
       " ('ahmed', 'ali'),\n",
       " ('ahmed', 'saad'),\n",
       " ('saad', 'mohamed'),\n",
       " ('saad', 'ali'),\n",
       " ('saad', 'ahmed')]"
      ]
     },
     "execution_count": 38,
     "metadata": {},
     "output_type": "execute_result"
    }
   ],
   "source": [
    "student_names = ['mohamed','ali','ahmed','saad']\n",
    "student_pairs = []\n",
    "for student_name_0 in student_names:\n",
    "    for student_name_1 in student_names:\n",
    "        if student_name_0 != student_name_1:\n",
    "           student_pairs.append(\n",
    "             (student_name_0,student_name_1)\n",
    "           )\n",
    "student_pairs"
   ]
  },
  {
   "cell_type": "code",
   "execution_count": 39,
   "id": "ee0d46bb",
   "metadata": {},
   "outputs": [
    {
     "data": {
      "text/plain": [
       "['mohamed', 'spanish', 'A']"
      ]
     },
     "execution_count": 39,
     "metadata": {},
     "output_type": "execute_result"
    }
   ],
   "source": [
    "student_grade = ['mohamed','spanish','A']\n",
    "student_grade"
   ]
  },
  {
   "cell_type": "code",
   "execution_count": 40,
   "id": "9d86076d",
   "metadata": {},
   "outputs": [
    {
     "data": {
      "text/plain": [
       "'mohamed'"
      ]
     },
     "execution_count": 40,
     "metadata": {},
     "output_type": "execute_result"
    }
   ],
   "source": [
    "student_grade[0]"
   ]
  },
  {
   "cell_type": "code",
   "execution_count": 46,
   "id": "37c17423",
   "metadata": {},
   "outputs": [
    {
     "data": {
      "text/plain": [
       "['mohamed',\n",
       " 'spanish',\n",
       " 'A',\n",
       " 'IU Bloomington',\n",
       " 'IU Bloomington',\n",
       " 'mm',\n",
       " 'mm',\n",
       " 'IU Bloomington']"
      ]
     },
     "execution_count": 46,
     "metadata": {},
     "output_type": "execute_result"
    }
   ],
   "source": [
    "student_grade.append('IU Bloomington')\n",
    "student_grade"
   ]
  },
  {
   "cell_type": "code",
   "execution_count": 48,
   "id": "7ed54e16",
   "metadata": {},
   "outputs": [
    {
     "data": {
      "text/plain": [
       "['mohamed', 'spanish', 'A', 'mm', 'mm', 'IU Bloomington']"
      ]
     },
     "execution_count": 48,
     "metadata": {},
     "output_type": "execute_result"
    }
   ],
   "source": [
    "del student_grade[3]\n",
    "student_grade"
   ]
  },
  {
   "cell_type": "code",
   "execution_count": 49,
   "id": "dd24bd4c",
   "metadata": {},
   "outputs": [
    {
     "data": {
      "text/plain": [
       "['mohamed', 'spanish', 'A', 'B+', 'mm', 'IU Bloomington']"
      ]
     },
     "execution_count": 49,
     "metadata": {},
     "output_type": "execute_result"
    }
   ],
   "source": [
    "student_grade[3] = 'B+'\n",
    "student_grade"
   ]
  },
  {
   "cell_type": "code",
   "execution_count": 50,
   "id": "b55d3330",
   "metadata": {},
   "outputs": [
    {
     "name": "stdout",
     "output_type": "stream",
     "text": [
      "mohamed\n",
      "spanish\n",
      "A\n"
     ]
    }
   ],
   "source": [
    "student_grade = ['mohamed','spanish','A']\n",
    "student_name, subject, grade = student_grade\n",
    "print(student_name)\n",
    "print(subject)\n",
    "print(grade)"
   ]
  },
  {
   "cell_type": "code",
   "execution_count": 52,
   "id": "22855739",
   "metadata": {},
   "outputs": [
    {
     "name": "stdout",
     "output_type": "stream",
     "text": [
      "congratulations mohamed on getting an A in Spanish\n",
      "congratulations saad on getting an A- in English\n"
     ]
    }
   ],
   "source": [
    "student_grades = [\n",
    "    ('mohamed','Spanish','A'),\n",
    "    ('ali','French','B'),\n",
    "    ('ahmed','Italian','B+'),\n",
    "    ('saad','English','A-'),\n",
    "]\n",
    "for student_name, subject, grade in student_grades:\n",
    "    if grade.startswith('A'):\n",
    "        print('congratulations', student_name, 'on getting an', grade, 'in', subject)"
   ]
  },
  {
   "cell_type": "code",
   "execution_count": 54,
   "id": "530cb435",
   "metadata": {},
   "outputs": [
    {
     "name": "stdout",
     "output_type": "stream",
     "text": [
      "congratulations mohamed on getting an A in Spanish\n",
      "congratulations saad on getting an A- in English\n"
     ]
    }
   ],
   "source": [
    "for student_grade in student_grades:\n",
    "    if student_grade[2].startswith('A'):\n",
    "        print('congratulations', student_grade[0], 'on getting an', student_grade[2], 'in', student_grade[1])"
   ]
  },
  {
   "cell_type": "code",
   "execution_count": 55,
   "id": "35611b36",
   "metadata": {},
   "outputs": [],
   "source": [
    "foreign_languages = {\n",
    "    'mohamed' : 'Spanish',\n",
    "    'ali' : 'French',\n",
    "    'ahmed' : 'Italian',\n",
    "    'saad' : 'English',\n",
    "}"
   ]
  },
  {
   "cell_type": "code",
   "execution_count": 56,
   "id": "a2fce0b6",
   "metadata": {},
   "outputs": [
    {
     "data": {
      "text/plain": [
       "'Spanish'"
      ]
     },
     "execution_count": 56,
     "metadata": {},
     "output_type": "execute_result"
    }
   ],
   "source": [
    "foreign_languages['mohamed']"
   ]
  },
  {
   "cell_type": "code",
   "execution_count": 60,
   "id": "deef0f9c",
   "metadata": {},
   "outputs": [
    {
     "ename": "KeyError",
     "evalue": "'omar'",
     "output_type": "error",
     "traceback": [
      "\u001b[1;31m---------------------------------------------------------------------------\u001b[0m",
      "\u001b[1;31mKeyError\u001b[0m                                  Traceback (most recent call last)",
      "\u001b[1;32m~\\AppData\\Local\\Temp/ipykernel_14000/970641144.py\u001b[0m in \u001b[0;36m<module>\u001b[1;34m\u001b[0m\n\u001b[1;32m----> 1\u001b[1;33m \u001b[0mforeign_languages\u001b[0m\u001b[1;33m[\u001b[0m\u001b[1;34m'omar'\u001b[0m\u001b[1;33m]\u001b[0m\u001b[1;33m\u001b[0m\u001b[1;33m\u001b[0m\u001b[0m\n\u001b[0m",
      "\u001b[1;31mKeyError\u001b[0m: 'omar'"
     ]
    }
   ],
   "source": [
    "foreign_languages['omar']"
   ]
  },
  {
   "cell_type": "code",
   "execution_count": 59,
   "id": "f8f46b11",
   "metadata": {},
   "outputs": [
    {
     "data": {
      "text/plain": [
       "False"
      ]
     },
     "execution_count": 59,
     "metadata": {},
     "output_type": "execute_result"
    }
   ],
   "source": [
    "'omar' in foreign_languages"
   ]
  },
  {
   "cell_type": "code",
   "execution_count": 62,
   "id": "e99c1da5",
   "metadata": {},
   "outputs": [
    {
     "data": {
      "text/plain": [
       "True"
      ]
     },
     "execution_count": 62,
     "metadata": {},
     "output_type": "execute_result"
    }
   ],
   "source": [
    "'ali' in foreign_languages"
   ]
  },
  {
   "cell_type": "code",
   "execution_count": 63,
   "id": "6e2d62ef",
   "metadata": {},
   "outputs": [
    {
     "data": {
      "text/plain": [
       "False"
      ]
     },
     "execution_count": 63,
     "metadata": {},
     "output_type": "execute_result"
    }
   ],
   "source": [
    "'Ali'in foreign_languages"
   ]
  },
  {
   "cell_type": "code",
   "execution_count": 65,
   "id": "7bdf22ff",
   "metadata": {},
   "outputs": [
    {
     "data": {
      "text/plain": [
       "{'mohamed': 'Spanish',\n",
       " 'ali': 'French',\n",
       " 'ahmed': 'Italian',\n",
       " 'saad': 'English',\n",
       " 'Arabic': 'French',\n",
       " 'omar': 'Arabic'}"
      ]
     },
     "execution_count": 65,
     "metadata": {},
     "output_type": "execute_result"
    }
   ],
   "source": [
    "foreign_languages['omar'] = 'Arabic'\n",
    "foreign_languages"
   ]
  },
  {
   "cell_type": "code",
   "execution_count": 66,
   "id": "535f785b",
   "metadata": {},
   "outputs": [
    {
     "data": {
      "text/plain": [
       "{'mohamed': 'Spanish',\n",
       " 'ali': 'French',\n",
       " 'ahmed': 'Italian',\n",
       " 'saad': 'English',\n",
       " 'Arabic': 'French'}"
      ]
     },
     "execution_count": 66,
     "metadata": {},
     "output_type": "execute_result"
    }
   ],
   "source": [
    "del foreign_languages['omar']\n",
    "foreign_languages"
   ]
  },
  {
   "cell_type": "code",
   "execution_count": 69,
   "id": "03675e88",
   "metadata": {},
   "outputs": [
    {
     "ename": "KeyError",
     "evalue": "'Arabic'",
     "output_type": "error",
     "traceback": [
      "\u001b[1;31m---------------------------------------------------------------------------\u001b[0m",
      "\u001b[1;31mKeyError\u001b[0m                                  Traceback (most recent call last)",
      "\u001b[1;32m~\\AppData\\Local\\Temp/ipykernel_14000/1851323555.py\u001b[0m in \u001b[0;36m<module>\u001b[1;34m\u001b[0m\n\u001b[1;32m----> 1\u001b[1;33m \u001b[1;32mdel\u001b[0m \u001b[0mforeign_languages\u001b[0m\u001b[1;33m[\u001b[0m\u001b[1;34m'Arabic'\u001b[0m\u001b[1;33m]\u001b[0m\u001b[1;33m\u001b[0m\u001b[1;33m\u001b[0m\u001b[0m\n\u001b[0m\u001b[0;32m      2\u001b[0m \u001b[0mforeign_languages\u001b[0m\u001b[1;33m\u001b[0m\u001b[1;33m\u001b[0m\u001b[0m\n",
      "\u001b[1;31mKeyError\u001b[0m: 'Arabic'"
     ]
    }
   ],
   "source": [
    "del foreign_languages['Arabic']\n",
    "foreign_languages"
   ]
  },
  {
   "cell_type": "code",
   "execution_count": 70,
   "id": "74e706fd",
   "metadata": {},
   "outputs": [
    {
     "data": {
      "text/plain": [
       "{'mohamed': 'Spanish', 'ali': 'French', 'ahmed': 'Italian', 'saad': 'English'}"
      ]
     },
     "execution_count": 70,
     "metadata": {},
     "output_type": "execute_result"
    }
   ],
   "source": [
    "foreign_languages"
   ]
  },
  {
   "cell_type": "code",
   "execution_count": 71,
   "id": "e931bf32",
   "metadata": {},
   "outputs": [
    {
     "name": "stdout",
     "output_type": "stream",
     "text": [
      "mohamed is taking Spanish\n",
      "ali is taking French\n",
      "ahmed is taking Italian\n",
      "saad is taking English\n"
     ]
    }
   ],
   "source": [
    "for key in foreign_languages:\n",
    "    value = foreign_languages[key]\n",
    "    print(key,'is taking',value)"
   ]
  },
  {
   "cell_type": "code",
   "execution_count": 72,
   "id": "ef30a1fb",
   "metadata": {},
   "outputs": [
    {
     "name": "stdout",
     "output_type": "stream",
     "text": [
      "mohamed is taking Spanish\n",
      "ali is taking French\n",
      "ahmed is taking Italian\n",
      "saad is taking English\n"
     ]
    }
   ],
   "source": [
    "for key,value in foreign_languages.items():\n",
    "    print(key,'is taking',value)"
   ]
  },
  {
   "cell_type": "code",
   "execution_count": 73,
   "id": "86618d53",
   "metadata": {},
   "outputs": [
    {
     "name": "stdout",
     "output_type": "stream",
     "text": [
      "mohamed got a grade of A in Spanish\n"
     ]
    }
   ],
   "source": [
    "student_grade = ['mohamed','spanish','A']\n",
    "student_name, subject, grade = student_grades[0]\n",
    "print(student_name, 'got a grade of', grade, 'in', subject)"
   ]
  },
  {
   "cell_type": "code",
   "execution_count": 76,
   "id": "559a3668",
   "metadata": {},
   "outputs": [
    {
     "name": "stdout",
     "output_type": "stream",
     "text": [
      "mohamed got a grade of A in spanish\n"
     ]
    }
   ],
   "source": [
    "record = {\n",
    "    'name' : 'mohamed',\n",
    "    'subject' : 'spanish',\n",
    "    'grade' : 'A',\n",
    "}\n",
    "print(record['name'],'got a grade of', record['grade'],\n",
    "      'in', record['subject'])"
   ]
  },
  {
   "cell_type": "code",
   "execution_count": 77,
   "id": "08866568",
   "metadata": {},
   "outputs": [
    {
     "data": {
      "text/plain": [
       "('ali', 'French', 'B')"
      ]
     },
     "execution_count": 77,
     "metadata": {},
     "output_type": "execute_result"
    }
   ],
   "source": [
    "student_grades = [\n",
    "    ('mohamed','Spanish','A'),\n",
    "    ('ali','French','B'),\n",
    "    ('ahmed','Italian','B+'),\n",
    "    ('saad','English','A-'),\n",
    "]\n",
    "student_grades[1]"
   ]
  },
  {
   "cell_type": "code",
   "execution_count": 78,
   "id": "d48b5b8e",
   "metadata": {},
   "outputs": [
    {
     "data": {
      "text/plain": [
       "'B'"
      ]
     },
     "execution_count": 78,
     "metadata": {},
     "output_type": "execute_result"
    }
   ],
   "source": [
    "student_grades[1][2]"
   ]
  },
  {
   "cell_type": "code",
   "execution_count": 84,
   "id": "4d001b0d",
   "metadata": {},
   "outputs": [
    {
     "data": {
      "text/plain": [
       "[{'name': 'mohamed', 'subject': 'Spanish', 'grade': 'A'},\n",
       " {'name': 'ali', 'subject': 'French', 'grade': 'B'},\n",
       " {'name': 'ahmed', 'subject': 'Italian', 'grade': 'B+'},\n",
       " {'name': 'saad', 'subject': 'English', 'grade': 'A-'}]"
      ]
     },
     "execution_count": 84,
     "metadata": {},
     "output_type": "execute_result"
    }
   ],
   "source": [
    "student_grade_records = []\n",
    "for student_name, subject, grade in student_grades:\n",
    "   record = {\n",
    "     'name': student_name,\n",
    "     'subject': subject,\n",
    "     'grade': grade,\n",
    "   }\n",
    "   student_grade_records.append(record)\n",
    "    \n",
    "student_grade_records"
   ]
  },
  {
   "cell_type": "code",
   "execution_count": 85,
   "id": "09e18711",
   "metadata": {},
   "outputs": [
    {
     "data": {
      "text/plain": [
       "{'name': 'ali', 'subject': 'French', 'grade': 'B'}"
      ]
     },
     "execution_count": 85,
     "metadata": {},
     "output_type": "execute_result"
    }
   ],
   "source": [
    "student_grade_records[1]"
   ]
  },
  {
   "cell_type": "code",
   "execution_count": 86,
   "id": "5fd79ecf",
   "metadata": {},
   "outputs": [
    {
     "data": {
      "text/plain": [
       "'B'"
      ]
     },
     "execution_count": 86,
     "metadata": {},
     "output_type": "execute_result"
    }
   ],
   "source": [
    "student_grade_records[1]['grade']"
   ]
  },
  {
   "cell_type": "code",
   "execution_count": 87,
   "id": "d8af11d0",
   "metadata": {},
   "outputs": [
    {
     "name": "stdout",
     "output_type": "stream",
     "text": [
      "Congratulations mohamed on getting an A in Spanish\n",
      "Congratulations saad on getting an A- in English\n"
     ]
    }
   ],
   "source": [
    "for record in student_grade_records:\n",
    "    if record['grade'].startswith('A'):\n",
    "        print('Congratulations', record['name'], \n",
    "              'on getting an', record['grade'], \n",
    "              'in', record['subject'])"
   ]
  },
  {
   "cell_type": "code",
   "execution_count": 88,
   "id": "c204030f",
   "metadata": {},
   "outputs": [
    {
     "data": {
      "text/plain": [
       "{'mohamed': {'subject': 'Spanish', 'grade': 'A'},\n",
       " 'ali': {'subject': 'French', 'grade': 'B'},\n",
       " 'ahmed': {'subject': 'Italian', 'grade': 'B+'},\n",
       " 'saad': {'subject': 'English', 'grade': 'A-'}}"
      ]
     },
     "execution_count": 88,
     "metadata": {},
     "output_type": "execute_result"
    }
   ],
   "source": [
    "foreign_language_grades = {}\n",
    "for student_name, subject, grade in student_grades:\n",
    "    record = {\n",
    "        'subject': subject,\n",
    "        'grade': grade,\n",
    "    }\n",
    "    foreign_language_grades[student_name] = record\n",
    "    \n",
    "foreign_language_grades"
   ]
  },
  {
   "cell_type": "code",
   "execution_count": 89,
   "id": "a8a62355",
   "metadata": {},
   "outputs": [
    {
     "data": {
      "text/plain": [
       "{'subject': 'Spanish', 'grade': 'A'}"
      ]
     },
     "execution_count": 89,
     "metadata": {},
     "output_type": "execute_result"
    }
   ],
   "source": [
    "foreign_language_grades['mohamed']"
   ]
  },
  {
   "cell_type": "code",
   "execution_count": 90,
   "id": "aa525fd0",
   "metadata": {},
   "outputs": [
    {
     "data": {
      "text/plain": [
       "'A'"
      ]
     },
     "execution_count": 90,
     "metadata": {},
     "output_type": "execute_result"
    }
   ],
   "source": [
    "foreign_language_grades['mohamed']['grade']"
   ]
  },
  {
   "cell_type": "code",
   "execution_count": 91,
   "id": "654c58c4",
   "metadata": {},
   "outputs": [
    {
     "data": {
      "text/plain": [
       "{('mohamed', 'Spanish'): 'A',\n",
       " ('ali', 'French'): 'B',\n",
       " ('ahmed', 'Italian'): 'B+',\n",
       " ('saad', 'English'): 'A-'}"
      ]
     },
     "execution_count": 91,
     "metadata": {},
     "output_type": "execute_result"
    }
   ],
   "source": [
    "student_course_grades = {}\n",
    "for student_name, subject, grade in student_grades:\n",
    "    student_course_grades[student_name, subject] = grade\n",
    "    \n",
    "student_course_grades"
   ]
  },
  {
   "cell_type": "code",
   "execution_count": 92,
   "id": "e3c342db",
   "metadata": {},
   "outputs": [
    {
     "data": {
      "text/plain": [
       "{('mohamed', 'Spanish'): 'A',\n",
       " ('ali', 'French'): 'B',\n",
       " ('ahmed', 'Italian'): 'B+',\n",
       " ('saad', 'English'): 'A-',\n",
       " ('mohamed', 'Math'): 'A',\n",
       " ('Ali', 'History'): 'B'}"
      ]
     },
     "execution_count": 92,
     "metadata": {},
     "output_type": "execute_result"
    }
   ],
   "source": [
    "student_course_grades['mohamed', 'Math'] = 'A'\n",
    "student_course_grades['Ali', 'History'] = 'B'\n",
    "student_course_grades"
   ]
  },
  {
   "cell_type": "code",
   "execution_count": 93,
   "id": "f57cd3b8",
   "metadata": {},
   "outputs": [
    {
     "data": {
      "text/plain": [
       "{'mohamed': {'Spanish': 'A'},\n",
       " 'ali': {'French': 'B'},\n",
       " 'ahmed': {'Italian': 'B+'},\n",
       " 'saad': {'English': 'A-'}}"
      ]
     },
     "execution_count": 93,
     "metadata": {},
     "output_type": "execute_result"
    }
   ],
   "source": [
    "student_report_cards = {}\n",
    "for student_name, subject, grade in student_grades:\n",
    "    if student_name not in student_report_cards:\n",
    "        student_report_cards[student_name] = {}\n",
    "    student_report_cards[student_name][subject] = grade\n",
    "student_report_cards"
   ]
  },
  {
   "cell_type": "code",
   "execution_count": 96,
   "id": "7a3ed38b",
   "metadata": {},
   "outputs": [
    {
     "data": {
      "text/plain": [
       "{'mohamed': {'Spanish': 'A', 'Math': 'A', 'History': 'B+'},\n",
       " 'ali': {'French': 'B'},\n",
       " 'ahmed': {'Italian': 'B+'},\n",
       " 'saad': {'English': 'A-'}}"
      ]
     },
     "execution_count": 96,
     "metadata": {},
     "output_type": "execute_result"
    }
   ],
   "source": [
    "student_report_cards['mohamed']['Math'] = 'A'\n",
    "student_report_cards['mohamed']['History'] = 'B+'\n",
    "student_report_cards"
   ]
  },
  {
   "cell_type": "code",
   "execution_count": 97,
   "id": "1333d1c2",
   "metadata": {},
   "outputs": [
    {
     "data": {
      "text/plain": [
       "{'Spanish': 'A', 'Math': 'A', 'History': 'B+'}"
      ]
     },
     "execution_count": 97,
     "metadata": {},
     "output_type": "execute_result"
    }
   ],
   "source": [
    "student_report_cards['mohamed']"
   ]
  },
  {
   "cell_type": "code",
   "execution_count": null,
   "id": "6bde5aae",
   "metadata": {},
   "outputs": [],
   "source": []
  }
 ],
 "metadata": {
  "kernelspec": {
   "display_name": "Python 3 (ipykernel)",
   "language": "python",
   "name": "python3"
  },
  "language_info": {
   "codemirror_mode": {
    "name": "ipython",
    "version": 3
   },
   "file_extension": ".py",
   "mimetype": "text/x-python",
   "name": "python",
   "nbconvert_exporter": "python",
   "pygments_lexer": "ipython3",
   "version": "3.9.7"
  }
 },
 "nbformat": 4,
 "nbformat_minor": 5
}
